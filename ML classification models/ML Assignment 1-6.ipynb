{
 "cells": [
  {
   "cell_type": "code",
   "execution_count": 1,
   "metadata": {},
   "outputs": [],
   "source": [
    "import numpy as np\n",
    "import pandas as pd\n",
    "import matplotlib.pyplot as plt\n",
    "from sklearn.metrics import accuracy_score\n",
    "import math as m\n",
    "from sklearn.metrics import precision_score, confusion_matrix\n",
    "from sklearn.discriminant_analysis import LinearDiscriminantAnalysis"
   ]
  },
  {
   "cell_type": "code",
   "execution_count": 2,
   "metadata": {},
   "outputs": [],
   "source": [
    "data=pd.read_excel ('/Users/anandramesh/Desktop/ML/fld.xlsx')         "
   ]
  },
  {
   "cell_type": "code",
   "execution_count": 3,
   "metadata": {},
   "outputs": [
    {
     "data": {
      "text/html": [
       "<div>\n",
       "<style scoped>\n",
       "    .dataframe tbody tr th:only-of-type {\n",
       "        vertical-align: middle;\n",
       "    }\n",
       "\n",
       "    .dataframe tbody tr th {\n",
       "        vertical-align: top;\n",
       "    }\n",
       "\n",
       "    .dataframe thead th {\n",
       "        text-align: right;\n",
       "    }\n",
       "</style>\n",
       "<table border=\"1\" class=\"dataframe\">\n",
       "  <thead>\n",
       "    <tr style=\"text-align: right;\">\n",
       "      <th></th>\n",
       "      <th>A</th>\n",
       "      <th>B</th>\n",
       "      <th>C</th>\n",
       "    </tr>\n",
       "  </thead>\n",
       "  <tbody>\n",
       "    <tr>\n",
       "      <th>0</th>\n",
       "      <td>4.202260</td>\n",
       "      <td>3.079934</td>\n",
       "      <td>1</td>\n",
       "    </tr>\n",
       "    <tr>\n",
       "      <th>1</th>\n",
       "      <td>7.100692</td>\n",
       "      <td>2.051519</td>\n",
       "      <td>1</td>\n",
       "    </tr>\n",
       "    <tr>\n",
       "      <th>2</th>\n",
       "      <td>-2.050935</td>\n",
       "      <td>3.411491</td>\n",
       "      <td>1</td>\n",
       "    </tr>\n",
       "    <tr>\n",
       "      <th>3</th>\n",
       "      <td>4.927878</td>\n",
       "      <td>3.676978</td>\n",
       "      <td>1</td>\n",
       "    </tr>\n",
       "    <tr>\n",
       "      <th>4</th>\n",
       "      <td>3.712781</td>\n",
       "      <td>3.857733</td>\n",
       "      <td>1</td>\n",
       "    </tr>\n",
       "  </tbody>\n",
       "</table>\n",
       "</div>"
      ],
      "text/plain": [
       "          A         B  C\n",
       "0  4.202260  3.079934  1\n",
       "1  7.100692  2.051519  1\n",
       "2 -2.050935  3.411491  1\n",
       "3  4.927878  3.676978  1\n",
       "4  3.712781  3.857733  1"
      ]
     },
     "execution_count": 3,
     "metadata": {},
     "output_type": "execute_result"
    }
   ],
   "source": [
    "data.head()"
   ]
  },
  {
   "cell_type": "code",
   "execution_count": 4,
   "metadata": {
    "scrolled": true
   },
   "outputs": [
    {
     "data": {
      "text/html": [
       "<div>\n",
       "<style scoped>\n",
       "    .dataframe tbody tr th:only-of-type {\n",
       "        vertical-align: middle;\n",
       "    }\n",
       "\n",
       "    .dataframe tbody tr th {\n",
       "        vertical-align: top;\n",
       "    }\n",
       "\n",
       "    .dataframe thead th {\n",
       "        text-align: right;\n",
       "    }\n",
       "</style>\n",
       "<table border=\"1\" class=\"dataframe\">\n",
       "  <thead>\n",
       "    <tr style=\"text-align: right;\">\n",
       "      <th></th>\n",
       "      <th>A</th>\n",
       "      <th>B</th>\n",
       "      <th>C</th>\n",
       "    </tr>\n",
       "  </thead>\n",
       "  <tbody>\n",
       "    <tr>\n",
       "      <th>count</th>\n",
       "      <td>500.000000</td>\n",
       "      <td>500.000000</td>\n",
       "      <td>500.000000</td>\n",
       "    </tr>\n",
       "    <tr>\n",
       "      <th>mean</th>\n",
       "      <td>2.146299</td>\n",
       "      <td>2.154970</td>\n",
       "      <td>0.600000</td>\n",
       "    </tr>\n",
       "    <tr>\n",
       "      <th>std</th>\n",
       "      <td>2.186602</td>\n",
       "      <td>1.672030</td>\n",
       "      <td>0.490389</td>\n",
       "    </tr>\n",
       "    <tr>\n",
       "      <th>min</th>\n",
       "      <td>-3.773446</td>\n",
       "      <td>-4.322572</td>\n",
       "      <td>0.000000</td>\n",
       "    </tr>\n",
       "    <tr>\n",
       "      <th>25%</th>\n",
       "      <td>0.608097</td>\n",
       "      <td>1.186131</td>\n",
       "      <td>0.000000</td>\n",
       "    </tr>\n",
       "    <tr>\n",
       "      <th>50%</th>\n",
       "      <td>1.784731</td>\n",
       "      <td>2.463797</td>\n",
       "      <td>1.000000</td>\n",
       "    </tr>\n",
       "    <tr>\n",
       "      <th>75%</th>\n",
       "      <td>3.488883</td>\n",
       "      <td>3.324288</td>\n",
       "      <td>1.000000</td>\n",
       "    </tr>\n",
       "    <tr>\n",
       "      <th>max</th>\n",
       "      <td>11.001539</td>\n",
       "      <td>7.108385</td>\n",
       "      <td>1.000000</td>\n",
       "    </tr>\n",
       "  </tbody>\n",
       "</table>\n",
       "</div>"
      ],
      "text/plain": [
       "                A           B           C\n",
       "count  500.000000  500.000000  500.000000\n",
       "mean     2.146299    2.154970    0.600000\n",
       "std      2.186602    1.672030    0.490389\n",
       "min     -3.773446   -4.322572    0.000000\n",
       "25%      0.608097    1.186131    0.000000\n",
       "50%      1.784731    2.463797    1.000000\n",
       "75%      3.488883    3.324288    1.000000\n",
       "max     11.001539    7.108385    1.000000"
      ]
     },
     "execution_count": 4,
     "metadata": {},
     "output_type": "execute_result"
    }
   ],
   "source": [
    "data.describe()"
   ]
  },
  {
   "cell_type": "markdown",
   "metadata": {},
   "source": [
    "### Question 1"
   ]
  },
  {
   "cell_type": "markdown",
   "metadata": {},
   "source": [
    "### FLD implementation without inbuilt function"
   ]
  },
  {
   "cell_type": "code",
   "execution_count": 5,
   "metadata": {},
   "outputs": [],
   "source": [
    "#splitting the zeros and ones\n",
    "zero=data[data['C']==0]"
   ]
  },
  {
   "cell_type": "code",
   "execution_count": 6,
   "metadata": {},
   "outputs": [],
   "source": [
    "ones=data[data['C']==1]"
   ]
  },
  {
   "cell_type": "code",
   "execution_count": 7,
   "metadata": {},
   "outputs": [
    {
     "data": {
      "text/html": [
       "<div>\n",
       "<style scoped>\n",
       "    .dataframe tbody tr th:only-of-type {\n",
       "        vertical-align: middle;\n",
       "    }\n",
       "\n",
       "    .dataframe tbody tr th {\n",
       "        vertical-align: top;\n",
       "    }\n",
       "\n",
       "    .dataframe thead th {\n",
       "        text-align: right;\n",
       "    }\n",
       "</style>\n",
       "<table border=\"1\" class=\"dataframe\">\n",
       "  <thead>\n",
       "    <tr style=\"text-align: right;\">\n",
       "      <th></th>\n",
       "      <th>A</th>\n",
       "      <th>B</th>\n",
       "      <th>C</th>\n",
       "    </tr>\n",
       "  </thead>\n",
       "  <tbody>\n",
       "    <tr>\n",
       "      <th>0</th>\n",
       "      <td>4.202260</td>\n",
       "      <td>3.079934</td>\n",
       "      <td>1</td>\n",
       "    </tr>\n",
       "    <tr>\n",
       "      <th>1</th>\n",
       "      <td>7.100692</td>\n",
       "      <td>2.051519</td>\n",
       "      <td>1</td>\n",
       "    </tr>\n",
       "    <tr>\n",
       "      <th>2</th>\n",
       "      <td>-2.050935</td>\n",
       "      <td>3.411491</td>\n",
       "      <td>1</td>\n",
       "    </tr>\n",
       "    <tr>\n",
       "      <th>3</th>\n",
       "      <td>4.927878</td>\n",
       "      <td>3.676978</td>\n",
       "      <td>1</td>\n",
       "    </tr>\n",
       "    <tr>\n",
       "      <th>4</th>\n",
       "      <td>3.712781</td>\n",
       "      <td>3.857733</td>\n",
       "      <td>1</td>\n",
       "    </tr>\n",
       "    <tr>\n",
       "      <th>5</th>\n",
       "      <td>0.075920</td>\n",
       "      <td>2.308841</td>\n",
       "      <td>1</td>\n",
       "    </tr>\n",
       "    <tr>\n",
       "      <th>6</th>\n",
       "      <td>2.030459</td>\n",
       "      <td>3.449378</td>\n",
       "      <td>1</td>\n",
       "    </tr>\n",
       "    <tr>\n",
       "      <th>7</th>\n",
       "      <td>3.766132</td>\n",
       "      <td>3.100633</td>\n",
       "      <td>1</td>\n",
       "    </tr>\n",
       "    <tr>\n",
       "      <th>8</th>\n",
       "      <td>11.001539</td>\n",
       "      <td>3.826070</td>\n",
       "      <td>1</td>\n",
       "    </tr>\n",
       "    <tr>\n",
       "      <th>9</th>\n",
       "      <td>9.192649</td>\n",
       "      <td>3.536157</td>\n",
       "      <td>1</td>\n",
       "    </tr>\n",
       "    <tr>\n",
       "      <th>10</th>\n",
       "      <td>-0.018439</td>\n",
       "      <td>3.897888</td>\n",
       "      <td>1</td>\n",
       "    </tr>\n",
       "    <tr>\n",
       "      <th>11</th>\n",
       "      <td>9.786295</td>\n",
       "      <td>2.868062</td>\n",
       "      <td>1</td>\n",
       "    </tr>\n",
       "    <tr>\n",
       "      <th>12</th>\n",
       "      <td>4.622053</td>\n",
       "      <td>2.852799</td>\n",
       "      <td>1</td>\n",
       "    </tr>\n",
       "    <tr>\n",
       "      <th>13</th>\n",
       "      <td>2.859005</td>\n",
       "      <td>4.007773</td>\n",
       "      <td>1</td>\n",
       "    </tr>\n",
       "    <tr>\n",
       "      <th>14</th>\n",
       "      <td>4.598214</td>\n",
       "      <td>0.876345</td>\n",
       "      <td>1</td>\n",
       "    </tr>\n",
       "    <tr>\n",
       "      <th>15</th>\n",
       "      <td>2.541682</td>\n",
       "      <td>2.495414</td>\n",
       "      <td>1</td>\n",
       "    </tr>\n",
       "    <tr>\n",
       "      <th>16</th>\n",
       "      <td>2.722405</td>\n",
       "      <td>1.729406</td>\n",
       "      <td>1</td>\n",
       "    </tr>\n",
       "    <tr>\n",
       "      <th>17</th>\n",
       "      <td>6.331065</td>\n",
       "      <td>2.617415</td>\n",
       "      <td>1</td>\n",
       "    </tr>\n",
       "    <tr>\n",
       "      <th>18</th>\n",
       "      <td>6.150697</td>\n",
       "      <td>3.648679</td>\n",
       "      <td>1</td>\n",
       "    </tr>\n",
       "    <tr>\n",
       "      <th>19</th>\n",
       "      <td>6.168939</td>\n",
       "      <td>3.825727</td>\n",
       "      <td>1</td>\n",
       "    </tr>\n",
       "    <tr>\n",
       "      <th>20</th>\n",
       "      <td>4.501513</td>\n",
       "      <td>1.985056</td>\n",
       "      <td>1</td>\n",
       "    </tr>\n",
       "    <tr>\n",
       "      <th>21</th>\n",
       "      <td>0.299977</td>\n",
       "      <td>2.528930</td>\n",
       "      <td>1</td>\n",
       "    </tr>\n",
       "    <tr>\n",
       "      <th>22</th>\n",
       "      <td>4.603794</td>\n",
       "      <td>3.137025</td>\n",
       "      <td>1</td>\n",
       "    </tr>\n",
       "    <tr>\n",
       "      <th>23</th>\n",
       "      <td>6.645317</td>\n",
       "      <td>2.708137</td>\n",
       "      <td>1</td>\n",
       "    </tr>\n",
       "    <tr>\n",
       "      <th>24</th>\n",
       "      <td>4.093200</td>\n",
       "      <td>3.301819</td>\n",
       "      <td>1</td>\n",
       "    </tr>\n",
       "    <tr>\n",
       "      <th>25</th>\n",
       "      <td>5.313644</td>\n",
       "      <td>3.399931</td>\n",
       "      <td>1</td>\n",
       "    </tr>\n",
       "    <tr>\n",
       "      <th>26</th>\n",
       "      <td>4.625365</td>\n",
       "      <td>2.070038</td>\n",
       "      <td>1</td>\n",
       "    </tr>\n",
       "    <tr>\n",
       "      <th>27</th>\n",
       "      <td>2.321485</td>\n",
       "      <td>2.823170</td>\n",
       "      <td>1</td>\n",
       "    </tr>\n",
       "    <tr>\n",
       "      <th>28</th>\n",
       "      <td>3.657117</td>\n",
       "      <td>0.867905</td>\n",
       "      <td>1</td>\n",
       "    </tr>\n",
       "    <tr>\n",
       "      <th>29</th>\n",
       "      <td>1.239582</td>\n",
       "      <td>4.145362</td>\n",
       "      <td>1</td>\n",
       "    </tr>\n",
       "    <tr>\n",
       "      <th>...</th>\n",
       "      <td>...</td>\n",
       "      <td>...</td>\n",
       "      <td>...</td>\n",
       "    </tr>\n",
       "    <tr>\n",
       "      <th>270</th>\n",
       "      <td>3.731328</td>\n",
       "      <td>4.028853</td>\n",
       "      <td>1</td>\n",
       "    </tr>\n",
       "    <tr>\n",
       "      <th>271</th>\n",
       "      <td>5.420842</td>\n",
       "      <td>4.457968</td>\n",
       "      <td>1</td>\n",
       "    </tr>\n",
       "    <tr>\n",
       "      <th>272</th>\n",
       "      <td>5.249657</td>\n",
       "      <td>3.047471</td>\n",
       "      <td>1</td>\n",
       "    </tr>\n",
       "    <tr>\n",
       "      <th>273</th>\n",
       "      <td>1.544526</td>\n",
       "      <td>4.746257</td>\n",
       "      <td>1</td>\n",
       "    </tr>\n",
       "    <tr>\n",
       "      <th>274</th>\n",
       "      <td>3.574795</td>\n",
       "      <td>3.155388</td>\n",
       "      <td>1</td>\n",
       "    </tr>\n",
       "    <tr>\n",
       "      <th>275</th>\n",
       "      <td>0.888307</td>\n",
       "      <td>1.762880</td>\n",
       "      <td>1</td>\n",
       "    </tr>\n",
       "    <tr>\n",
       "      <th>276</th>\n",
       "      <td>0.044391</td>\n",
       "      <td>0.806506</td>\n",
       "      <td>1</td>\n",
       "    </tr>\n",
       "    <tr>\n",
       "      <th>277</th>\n",
       "      <td>5.067974</td>\n",
       "      <td>2.666593</td>\n",
       "      <td>1</td>\n",
       "    </tr>\n",
       "    <tr>\n",
       "      <th>278</th>\n",
       "      <td>3.000111</td>\n",
       "      <td>3.713543</td>\n",
       "      <td>1</td>\n",
       "    </tr>\n",
       "    <tr>\n",
       "      <th>279</th>\n",
       "      <td>2.877198</td>\n",
       "      <td>3.317408</td>\n",
       "      <td>1</td>\n",
       "    </tr>\n",
       "    <tr>\n",
       "      <th>280</th>\n",
       "      <td>5.037343</td>\n",
       "      <td>3.413610</td>\n",
       "      <td>1</td>\n",
       "    </tr>\n",
       "    <tr>\n",
       "      <th>281</th>\n",
       "      <td>4.329530</td>\n",
       "      <td>2.422914</td>\n",
       "      <td>1</td>\n",
       "    </tr>\n",
       "    <tr>\n",
       "      <th>282</th>\n",
       "      <td>3.783074</td>\n",
       "      <td>3.144002</td>\n",
       "      <td>1</td>\n",
       "    </tr>\n",
       "    <tr>\n",
       "      <th>283</th>\n",
       "      <td>5.795647</td>\n",
       "      <td>1.361334</td>\n",
       "      <td>1</td>\n",
       "    </tr>\n",
       "    <tr>\n",
       "      <th>284</th>\n",
       "      <td>5.079072</td>\n",
       "      <td>2.239910</td>\n",
       "      <td>1</td>\n",
       "    </tr>\n",
       "    <tr>\n",
       "      <th>285</th>\n",
       "      <td>3.536127</td>\n",
       "      <td>2.181207</td>\n",
       "      <td>1</td>\n",
       "    </tr>\n",
       "    <tr>\n",
       "      <th>286</th>\n",
       "      <td>1.456306</td>\n",
       "      <td>3.519729</td>\n",
       "      <td>1</td>\n",
       "    </tr>\n",
       "    <tr>\n",
       "      <th>287</th>\n",
       "      <td>1.543082</td>\n",
       "      <td>2.985840</td>\n",
       "      <td>1</td>\n",
       "    </tr>\n",
       "    <tr>\n",
       "      <th>288</th>\n",
       "      <td>5.665621</td>\n",
       "      <td>1.844471</td>\n",
       "      <td>1</td>\n",
       "    </tr>\n",
       "    <tr>\n",
       "      <th>289</th>\n",
       "      <td>-0.604162</td>\n",
       "      <td>2.990475</td>\n",
       "      <td>1</td>\n",
       "    </tr>\n",
       "    <tr>\n",
       "      <th>290</th>\n",
       "      <td>2.945301</td>\n",
       "      <td>2.310189</td>\n",
       "      <td>1</td>\n",
       "    </tr>\n",
       "    <tr>\n",
       "      <th>291</th>\n",
       "      <td>-1.357755</td>\n",
       "      <td>2.333301</td>\n",
       "      <td>1</td>\n",
       "    </tr>\n",
       "    <tr>\n",
       "      <th>292</th>\n",
       "      <td>5.281903</td>\n",
       "      <td>3.864149</td>\n",
       "      <td>1</td>\n",
       "    </tr>\n",
       "    <tr>\n",
       "      <th>293</th>\n",
       "      <td>4.926856</td>\n",
       "      <td>3.113419</td>\n",
       "      <td>1</td>\n",
       "    </tr>\n",
       "    <tr>\n",
       "      <th>294</th>\n",
       "      <td>3.002598</td>\n",
       "      <td>3.398363</td>\n",
       "      <td>1</td>\n",
       "    </tr>\n",
       "    <tr>\n",
       "      <th>295</th>\n",
       "      <td>2.841603</td>\n",
       "      <td>3.883970</td>\n",
       "      <td>1</td>\n",
       "    </tr>\n",
       "    <tr>\n",
       "      <th>296</th>\n",
       "      <td>-2.559500</td>\n",
       "      <td>3.180258</td>\n",
       "      <td>1</td>\n",
       "    </tr>\n",
       "    <tr>\n",
       "      <th>297</th>\n",
       "      <td>4.299541</td>\n",
       "      <td>3.550855</td>\n",
       "      <td>1</td>\n",
       "    </tr>\n",
       "    <tr>\n",
       "      <th>298</th>\n",
       "      <td>-1.902434</td>\n",
       "      <td>3.682964</td>\n",
       "      <td>1</td>\n",
       "    </tr>\n",
       "    <tr>\n",
       "      <th>299</th>\n",
       "      <td>-2.186068</td>\n",
       "      <td>4.170609</td>\n",
       "      <td>1</td>\n",
       "    </tr>\n",
       "  </tbody>\n",
       "</table>\n",
       "<p>300 rows × 3 columns</p>\n",
       "</div>"
      ],
      "text/plain": [
       "             A         B  C\n",
       "0     4.202260  3.079934  1\n",
       "1     7.100692  2.051519  1\n",
       "2    -2.050935  3.411491  1\n",
       "3     4.927878  3.676978  1\n",
       "4     3.712781  3.857733  1\n",
       "5     0.075920  2.308841  1\n",
       "6     2.030459  3.449378  1\n",
       "7     3.766132  3.100633  1\n",
       "8    11.001539  3.826070  1\n",
       "9     9.192649  3.536157  1\n",
       "10   -0.018439  3.897888  1\n",
       "11    9.786295  2.868062  1\n",
       "12    4.622053  2.852799  1\n",
       "13    2.859005  4.007773  1\n",
       "14    4.598214  0.876345  1\n",
       "15    2.541682  2.495414  1\n",
       "16    2.722405  1.729406  1\n",
       "17    6.331065  2.617415  1\n",
       "18    6.150697  3.648679  1\n",
       "19    6.168939  3.825727  1\n",
       "20    4.501513  1.985056  1\n",
       "21    0.299977  2.528930  1\n",
       "22    4.603794  3.137025  1\n",
       "23    6.645317  2.708137  1\n",
       "24    4.093200  3.301819  1\n",
       "25    5.313644  3.399931  1\n",
       "26    4.625365  2.070038  1\n",
       "27    2.321485  2.823170  1\n",
       "28    3.657117  0.867905  1\n",
       "29    1.239582  4.145362  1\n",
       "..         ...       ... ..\n",
       "270   3.731328  4.028853  1\n",
       "271   5.420842  4.457968  1\n",
       "272   5.249657  3.047471  1\n",
       "273   1.544526  4.746257  1\n",
       "274   3.574795  3.155388  1\n",
       "275   0.888307  1.762880  1\n",
       "276   0.044391  0.806506  1\n",
       "277   5.067974  2.666593  1\n",
       "278   3.000111  3.713543  1\n",
       "279   2.877198  3.317408  1\n",
       "280   5.037343  3.413610  1\n",
       "281   4.329530  2.422914  1\n",
       "282   3.783074  3.144002  1\n",
       "283   5.795647  1.361334  1\n",
       "284   5.079072  2.239910  1\n",
       "285   3.536127  2.181207  1\n",
       "286   1.456306  3.519729  1\n",
       "287   1.543082  2.985840  1\n",
       "288   5.665621  1.844471  1\n",
       "289  -0.604162  2.990475  1\n",
       "290   2.945301  2.310189  1\n",
       "291  -1.357755  2.333301  1\n",
       "292   5.281903  3.864149  1\n",
       "293   4.926856  3.113419  1\n",
       "294   3.002598  3.398363  1\n",
       "295   2.841603  3.883970  1\n",
       "296  -2.559500  3.180258  1\n",
       "297   4.299541  3.550855  1\n",
       "298  -1.902434  3.682964  1\n",
       "299  -2.186068  4.170609  1\n",
       "\n",
       "[300 rows x 3 columns]"
      ]
     },
     "execution_count": 7,
     "metadata": {},
     "output_type": "execute_result"
    }
   ],
   "source": [
    "ones"
   ]
  },
  {
   "cell_type": "code",
   "execution_count": 8,
   "metadata": {},
   "outputs": [],
   "source": [
    "a=zero.drop('C', axis=1)\n",
    "b= ones.drop('C', axis=1)"
   ]
  },
  {
   "cell_type": "code",
   "execution_count": 9,
   "metadata": {},
   "outputs": [],
   "source": [
    "m1=np.mean(a,0)\n",
    "m2=np.mean(b,0)"
   ]
  },
  {
   "cell_type": "code",
   "execution_count": 10,
   "metadata": {},
   "outputs": [],
   "source": [
    "#mean centered\n",
    "a1_mc=a-m1\n",
    "b1_mc=b-m2"
   ]
  },
  {
   "cell_type": "code",
   "execution_count": 11,
   "metadata": {},
   "outputs": [],
   "source": [
    "t1=np.dot(a1_mc.T,a1_mc)\n",
    "t2=np.dot(b1_mc.T, b1_mc)"
   ]
  },
  {
   "cell_type": "code",
   "execution_count": 12,
   "metadata": {},
   "outputs": [],
   "source": [
    "#sum of covariances\n",
    "s=t1+t2"
   ]
  },
  {
   "cell_type": "code",
   "execution_count": 13,
   "metadata": {},
   "outputs": [
    {
     "data": {
      "text/plain": [
       "array([[1895.34902187,   17.01985477],\n",
       "       [  17.01985477,  861.95735571]])"
      ]
     },
     "execution_count": 13,
     "metadata": {},
     "output_type": "execute_result"
    }
   ],
   "source": [
    "s"
   ]
  },
  {
   "cell_type": "code",
   "execution_count": 14,
   "metadata": {},
   "outputs": [
    {
     "data": {
      "text/plain": [
       "array([0.0010449 , 0.00242462])"
      ]
     },
     "execution_count": 14,
     "metadata": {},
     "output_type": "execute_result"
    }
   ],
   "source": [
    "#line equation\n",
    "p=np.dot(np.linalg.inv(s),(m2-m1))\n",
    "p"
   ]
  },
  {
   "cell_type": "code",
   "execution_count": 15,
   "metadata": {},
   "outputs": [
    {
     "data": {
      "image/png": "[encoded data removed]",
      "text/plain": [
       "<Figure size 432x288 with 1 Axes>"
      ]
     },
     "metadata": {
      "needs_background": "light"
     },
     "output_type": "display_data"
    }
   ],
   "source": [
    "#Plotting the line, values and the error points\n",
    "plt.scatter(b.iloc[:,0],b.iloc[:,1], c='r', marker='.')\n",
    "plt.scatter (a.iloc[:,0], a.iloc[:,1], c='b', marker='*')\n",
    "plt.plot([-3000*p[0],3000*p[0]],[-3000*p[1],3000*p[1]], 'go-')\n",
    "plt.ion()\n",
    "plt.show()"
   ]
  },
  {
   "cell_type": "code",
   "execution_count": 16,
   "metadata": {},
   "outputs": [
    {
     "data": {
      "text/plain": [
       "155"
      ]
     },
     "execution_count": 16,
     "metadata": {},
     "output_type": "execute_result"
    }
   ],
   "source": [
    "#Error with the threshold as 0\n",
    "threshold=0\n",
    "pred=(1*np.sign(np.dot(p,data.drop('C', axis=1).T)+threshold)+1)/2\n",
    "err=sum(pred!=data.C)\n",
    "err"
   ]
  },
  {
   "cell_type": "code",
   "execution_count": 17,
   "metadata": {},
   "outputs": [
    {
     "data": {
      "text/plain": [
       "0      False\n",
       "1      False\n",
       "2      False\n",
       "3      False\n",
       "4      False\n",
       "5      False\n",
       "6      False\n",
       "7      False\n",
       "8      False\n",
       "9      False\n",
       "10     False\n",
       "11     False\n",
       "12     False\n",
       "13     False\n",
       "14     False\n",
       "15     False\n",
       "16     False\n",
       "17     False\n",
       "18     False\n",
       "19     False\n",
       "20     False\n",
       "21     False\n",
       "22     False\n",
       "23     False\n",
       "24     False\n",
       "25     False\n",
       "26     False\n",
       "27     False\n",
       "28     False\n",
       "29     False\n",
       "       ...  \n",
       "470     True\n",
       "471     True\n",
       "472     True\n",
       "473     True\n",
       "474     True\n",
       "475     True\n",
       "476     True\n",
       "477     True\n",
       "478     True\n",
       "479     True\n",
       "480    False\n",
       "481     True\n",
       "482     True\n",
       "483    False\n",
       "484     True\n",
       "485     True\n",
       "486     True\n",
       "487    False\n",
       "488    False\n",
       "489    False\n",
       "490     True\n",
       "491    False\n",
       "492     True\n",
       "493     True\n",
       "494     True\n",
       "495     True\n",
       "496     True\n",
       "497     True\n",
       "498     True\n",
       "499     True\n",
       "Name: C, Length: 500, dtype: bool"
      ]
     },
     "execution_count": 17,
     "metadata": {},
     "output_type": "execute_result"
    }
   ],
   "source": [
    "pred!=data.C"
   ]
  },
  {
   "cell_type": "code",
   "execution_count": 18,
   "metadata": {},
   "outputs": [
    {
     "name": "stderr",
     "output_type": "stream",
     "text": [
      "/Users/anandramesh/anaconda3/lib/python3.7/site-packages/numpy/core/fromnumeric.py:56: FutureWarning: Series.nonzero() is deprecated and will be removed in a future version.Use Series.to_numpy().nonzero() instead\n",
      "  return getattr(obj, method)(*args, **kwds)\n"
     ]
    },
    {
     "data": {
      "text/plain": [
       "array([[300],\n",
       "       [302],\n",
       "       [303],\n",
       "       [304],\n",
       "       [305],\n",
       "       [306],\n",
       "       [307],\n",
       "       [308],\n",
       "       [309],\n",
       "       [310],\n",
       "       [312],\n",
       "       [313],\n",
       "       [315],\n",
       "       [316],\n",
       "       [318],\n",
       "       [319],\n",
       "       [320],\n",
       "       [321],\n",
       "       [322],\n",
       "       [324],\n",
       "       [325],\n",
       "       [326],\n",
       "       [327],\n",
       "       [328],\n",
       "       [329],\n",
       "       [330],\n",
       "       [331],\n",
       "       [332],\n",
       "       [333],\n",
       "       [334],\n",
       "       [335],\n",
       "       [337],\n",
       "       [340],\n",
       "       [341],\n",
       "       [342],\n",
       "       [343],\n",
       "       [346],\n",
       "       [347],\n",
       "       [348],\n",
       "       [349],\n",
       "       [351],\n",
       "       [352],\n",
       "       [353],\n",
       "       [356],\n",
       "       [357],\n",
       "       [358],\n",
       "       [359],\n",
       "       [360],\n",
       "       [361],\n",
       "       [364],\n",
       "       [366],\n",
       "       [368],\n",
       "       [369],\n",
       "       [370],\n",
       "       [371],\n",
       "       [372],\n",
       "       [373],\n",
       "       [374],\n",
       "       [378],\n",
       "       [379],\n",
       "       [380],\n",
       "       [383],\n",
       "       [384],\n",
       "       [386],\n",
       "       [387],\n",
       "       [389],\n",
       "       [390],\n",
       "       [391],\n",
       "       [392],\n",
       "       [393],\n",
       "       [397],\n",
       "       [398],\n",
       "       [399],\n",
       "       [400],\n",
       "       [401],\n",
       "       [402],\n",
       "       [403],\n",
       "       [404],\n",
       "       [406],\n",
       "       [407],\n",
       "       [408],\n",
       "       [410],\n",
       "       [411],\n",
       "       [412],\n",
       "       [413],\n",
       "       [415],\n",
       "       [417],\n",
       "       [418],\n",
       "       [419],\n",
       "       [420],\n",
       "       [421],\n",
       "       [422],\n",
       "       [423],\n",
       "       [424],\n",
       "       [425],\n",
       "       [426],\n",
       "       [428],\n",
       "       [429],\n",
       "       [430],\n",
       "       [432],\n",
       "       [435],\n",
       "       [436],\n",
       "       [437],\n",
       "       [438],\n",
       "       [439],\n",
       "       [440],\n",
       "       [441],\n",
       "       [442],\n",
       "       [444],\n",
       "       [445],\n",
       "       [447],\n",
       "       [448],\n",
       "       [449],\n",
       "       [450],\n",
       "       [451],\n",
       "       [453],\n",
       "       [454],\n",
       "       [455],\n",
       "       [457],\n",
       "       [458],\n",
       "       [459],\n",
       "       [460],\n",
       "       [461],\n",
       "       [462],\n",
       "       [463],\n",
       "       [464],\n",
       "       [465],\n",
       "       [466],\n",
       "       [467],\n",
       "       [468],\n",
       "       [469],\n",
       "       [470],\n",
       "       [471],\n",
       "       [472],\n",
       "       [473],\n",
       "       [474],\n",
       "       [475],\n",
       "       [476],\n",
       "       [477],\n",
       "       [478],\n",
       "       [479],\n",
       "       [481],\n",
       "       [482],\n",
       "       [484],\n",
       "       [485],\n",
       "       [486],\n",
       "       [490],\n",
       "       [492],\n",
       "       [493],\n",
       "       [494],\n",
       "       [495],\n",
       "       [496],\n",
       "       [497],\n",
       "       [498],\n",
       "       [499]])"
      ]
     },
     "execution_count": 18,
     "metadata": {},
     "output_type": "execute_result"
    }
   ],
   "source": [
    "errindex=np.argwhere(pred!=data.C)\n",
    "errindex"
   ]
  },
  {
   "cell_type": "code",
   "execution_count": 19,
   "metadata": {},
   "outputs": [
    {
     "data": {
      "text/plain": [
       "0"
      ]
     },
     "execution_count": 19,
     "metadata": {},
     "output_type": "execute_result"
    }
   ],
   "source": [
    "data.C[327]"
   ]
  },
  {
   "cell_type": "code",
   "execution_count": 20,
   "metadata": {
    "scrolled": true
   },
   "outputs": [
    {
     "data": {
      "text/plain": [
       "1.0"
      ]
     },
     "execution_count": 20,
     "metadata": {},
     "output_type": "execute_result"
    }
   ],
   "source": [
    "pred[327]"
   ]
  },
  {
   "cell_type": "code",
   "execution_count": 21,
   "metadata": {
    "scrolled": true
   },
   "outputs": [
    {
     "name": "stdout",
     "output_type": "stream",
     "text": [
      "[300, 302, 303, 304, 305, 306, 307, 308, 309, 310, 312, 313, 315, 316, 318, 319, 320, 321, 322, 324, 325, 326, 327, 328, 329, 330, 331, 332, 333, 334, 335, 337, 340, 341, 342, 343, 346, 347, 348, 349, 351, 352, 353, 356, 357, 358, 359, 360, 361, 364, 366, 368, 369, 370, 371, 372, 373, 374, 378, 379, 380, 383, 384, 386, 387, 389, 390, 391, 392, 393, 397, 398, 399, 400, 401, 402, 403, 404, 406, 407, 408, 410, 411, 412, 413, 415, 417, 418, 419, 420, 421, 422, 423, 424, 425, 426, 428, 429, 430, 432, 435, 436, 437, 438, 439, 440, 441, 442, 444, 445, 447, 448, 449, 450, 451, 453, 454, 455, 457, 458, 459, 460, 461, 462, 463, 464, 465, 466, 467, 468, 469, 470, 471, 472, 473, 474, 475, 476, 477, 478, 479, 481, 482, 484, 485, 486, 490, 492, 493, 494, 495, 496, 497, 498, 499]\n"
     ]
    }
   ],
   "source": [
    "indices=[]\n",
    "for n in errindex: \n",
    "    indices.append(n[0])\n",
    "print(indices)"
   ]
  },
  {
   "cell_type": "code",
   "execution_count": 22,
   "metadata": {},
   "outputs": [],
   "source": [
    "u=data.drop('C',1)\n",
    "u1=u.iloc[indices,:]"
   ]
  },
  {
   "cell_type": "code",
   "execution_count": 23,
   "metadata": {},
   "outputs": [
    {
     "data": {
      "text/plain": [
       "1.0"
      ]
     },
     "execution_count": 23,
     "metadata": {},
     "output_type": "execute_result"
    }
   ],
   "source": [
    "pred[113]"
   ]
  },
  {
   "cell_type": "code",
   "execution_count": 24,
   "metadata": {},
   "outputs": [
    {
     "data": {
      "text/plain": [
       "1"
      ]
     },
     "execution_count": 24,
     "metadata": {},
     "output_type": "execute_result"
    }
   ],
   "source": [
    "data.C[113]"
   ]
  },
  {
   "cell_type": "code",
   "execution_count": 25,
   "metadata": {},
   "outputs": [
    {
     "data": {
      "image/png": "[encoded data removed]",
      "text/plain": [
       "<Figure size 432x288 with 1 Axes>"
      ]
     },
     "metadata": {
      "needs_background": "light"
     },
     "output_type": "display_data"
    }
   ],
   "source": [
    "#plotting the error points\n",
    "plt.scatter(ones.iloc[:,0],ones.iloc[:,1], c='r', marker='.')\n",
    "plt.scatter (zero.iloc[:,0], zero.iloc[:,1], c='b', marker='*')\n",
    "plt.plot([-3000*p[0],3000*p[0]],[-3000*p[1],3000*p[1]], 'go-', c='black')\n",
    "plt.scatter (u1.iloc[:,0], u1.iloc[:,1], c='g', marker='o')\n",
    "plt.ion()\n",
    "plt.show()"
   ]
  },
  {
   "cell_type": "code",
   "execution_count": 26,
   "metadata": {},
   "outputs": [],
   "source": [
    "user_accscore=accuracy_score(pred, data.C)"
   ]
  },
  {
   "cell_type": "code",
   "execution_count": 27,
   "metadata": {},
   "outputs": [
    {
     "name": "stdout",
     "output_type": "stream",
     "text": [
      "Accuracy score: 0.69\n"
     ]
    }
   ],
   "source": [
    "print('Accuracy score:',user_accscore)"
   ]
  },
  {
   "cell_type": "code",
   "execution_count": 28,
   "metadata": {},
   "outputs": [
    {
     "name": "stdout",
     "output_type": "stream",
     "text": [
      "Precision score:- 1.0\n",
      "Thresold for minimum errors: 155\n",
      "Thresold: 0\n"
     ]
    }
   ],
   "source": [
    "(p[1]-(-p[1]))/(p[0]-(-p[0]))\n",
    "print('Precision score:-',precision_score(pred, data.C))\n",
    "print('Thresold for minimum errors:', err)\n",
    "print('Thresold:', threshold)"
   ]
  },
  {
   "cell_type": "code",
   "execution_count": 29,
   "metadata": {
    "scrolled": true
   },
   "outputs": [
    {
     "name": "stdout",
     "output_type": "stream",
     "text": [
      "Confusion matrix:- [[ 45   0]\n",
      " [155 300]]\n"
     ]
    }
   ],
   "source": [
    "print('Confusion matrix:-',confusion_matrix(pred, data.C))"
   ]
  },
  {
   "cell_type": "markdown",
   "metadata": {},
   "source": [
    "### LDA inbuilt prediction"
   ]
  },
  {
   "cell_type": "code",
   "execution_count": 30,
   "metadata": {},
   "outputs": [
    {
     "data": {
      "text/plain": [
       "0.84"
      ]
     },
     "execution_count": 30,
     "metadata": {},
     "output_type": "execute_result"
    }
   ],
   "source": [
    "lda=LinearDiscriminantAnalysis()\n",
    "lda.fit(data.drop('C',1),data.C)\n",
    "ypred=lda.predict(data.drop('C',1))\n",
    "direct_acc=accuracy_score(ypred,data.C)\n",
    "direct_acc"
   ]
  },
  {
   "cell_type": "code",
   "execution_count": 31,
   "metadata": {},
   "outputs": [
    {
     "data": {
      "text/plain": [
       "array([-2.95372979])"
      ]
     },
     "execution_count": 31,
     "metadata": {},
     "output_type": "execute_result"
    }
   ],
   "source": [
    "lda.intercept_"
   ]
  },
  {
   "cell_type": "code",
   "execution_count": 32,
   "metadata": {},
   "outputs": [
    {
     "data": {
      "text/plain": [
       "array([[0.5203618 , 1.20746117]])"
      ]
     },
     "execution_count": 32,
     "metadata": {},
     "output_type": "execute_result"
    }
   ],
   "source": [
    "lda.coef_"
   ]
  },
  {
   "cell_type": "code",
   "execution_count": 33,
   "metadata": {
    "scrolled": true
   },
   "outputs": [
    {
     "name": "stderr",
     "output_type": "stream",
     "text": [
      "/Users/anandramesh/anaconda3/lib/python3.7/site-packages/numpy/core/fromnumeric.py:56: FutureWarning: Series.nonzero() is deprecated and will be removed in a future version.Use Series.to_numpy().nonzero() instead\n",
      "  return getattr(obj, method)(*args, **kwds)\n"
     ]
    }
   ],
   "source": [
    "err_lda=sum(ypred!=data.C)\n",
    "errindex_lda=np.argwhere(ypred!=data.C)"
   ]
  },
  {
   "cell_type": "code",
   "execution_count": 34,
   "metadata": {
    "scrolled": true
   },
   "outputs": [
    {
     "name": "stdout",
     "output_type": "stream",
     "text": [
      "Error count: 80\n",
      "Thresold for minimum errors: 0\n",
      "Precision score:- 0.9\n",
      "Confusion matrix:- [[150  30]\n",
      " [ 50 270]]\n"
     ]
    }
   ],
   "source": [
    "indices_lda=[]\n",
    "for n in errindex_lda: \n",
    "    indices_lda.append(n[0])\n",
    "l=data.drop('C',1)\n",
    "l1=u.iloc[indices_lda,:]\n",
    "#print(l1)\n",
    "print('Error count:',err_lda)\n",
    "print('Thresold for minimum errors:', threshold)\n",
    "print('Precision score:-',precision_score(ypred, data.C))\n",
    "print('Confusion matrix:-',confusion_matrix(ypred, data.C))"
   ]
  },
  {
   "cell_type": "code",
   "execution_count": 35,
   "metadata": {
    "scrolled": true
   },
   "outputs": [
    {
     "data": {
      "image/png": "[encoded data removed]",
      "text/plain": [
       "<Figure size 432x288 with 1 Axes>"
      ]
     },
     "metadata": {
      "needs_background": "light"
     },
     "output_type": "display_data"
    }
   ],
   "source": [
    "#plotting the determinant line(from mathemcatical implementation), classifier line(from inbuilt) and error points\n",
    "plt.scatter(ones.iloc[:,0],ones.iloc[:,1], c='r', marker='.')\n",
    "plt.scatter (zero.iloc[:,0], zero.iloc[:,1], c='b', marker='*')\n",
    "plt.scatter (l1.iloc[:,0], l1.iloc[:,1], c='g', marker='o')\n",
    "plt.plot([-3000*p[0],3000*p[0]],[-3000*p[1],3000*p[1]], 'go-')\n",
    "plt.plot([0,-1*lda.intercept_/lda.coef_[0][0]],[-1*lda.intercept_/lda.coef_[0][1],0], 'black')\n",
    "plt.ion()\n",
    "plt.show()"
   ]
  },
  {
   "cell_type": "markdown",
   "metadata": {},
   "source": [
    "## Comparison "
   ]
  },
  {
   "cell_type": "code",
   "execution_count": 36,
   "metadata": {
    "scrolled": true
   },
   "outputs": [],
   "source": [
    "slope1= (3000*p[1]-(-3000*p[1]))/(3000*p[0]-(-3000*p[0]))\n",
    "slope2= float((0-(lda.intercept_/lda.coef_[0][1]))/(lda.intercept_/lda.coef_[0][0])-0)\n",
    "overall_slope=slope1*slope2"
   ]
  },
  {
   "cell_type": "code",
   "execution_count": 37,
   "metadata": {},
   "outputs": [
    {
     "name": "stdout",
     "output_type": "stream",
     "text": [
      "Slope of discriminant line in first implementation: 2.3204262487784626\n",
      "Slope of classification line in inbuilt implementation -0.43095530423620587\n",
      "Slope for the perpendicular line: -1.0000000000000002\n"
     ]
    }
   ],
   "source": [
    "print('Slope of discriminant line in first implementation:',slope1)\n",
    "print('Slope of classification line in inbuilt implementation',slope2)\n",
    "print('Slope for the perpendicular line:', overall_slope)"
   ]
  },
  {
   "cell_type": "markdown",
   "metadata": {},
   "source": [
    "## Question 2"
   ]
  },
  {
   "cell_type": "code",
   "execution_count": 38,
   "metadata": {},
   "outputs": [],
   "source": [
    "data2=pd.read_excel ('/Users/anandramesh/Desktop/ML/spam.xlsx')         "
   ]
  },
  {
   "cell_type": "code",
   "execution_count": 39,
   "metadata": {},
   "outputs": [
    {
     "data": {
      "text/html": [
       "<div>\n",
       "<style scoped>\n",
       "    .dataframe tbody tr th:only-of-type {\n",
       "        vertical-align: middle;\n",
       "    }\n",
       "\n",
       "    .dataframe tbody tr th {\n",
       "        vertical-align: top;\n",
       "    }\n",
       "\n",
       "    .dataframe thead th {\n",
       "        text-align: right;\n",
       "    }\n",
       "</style>\n",
       "<table border=\"1\" class=\"dataframe\">\n",
       "  <thead>\n",
       "    <tr style=\"text-align: right;\">\n",
       "      <th></th>\n",
       "      <th>Column1</th>\n",
       "      <th>Column2</th>\n",
       "      <th>Column3</th>\n",
       "      <th>Column4</th>\n",
       "      <th>Column5</th>\n",
       "      <th>Column6</th>\n",
       "      <th>Column7</th>\n",
       "      <th>Column8</th>\n",
       "      <th>Column9</th>\n",
       "      <th>Column10</th>\n",
       "      <th>...</th>\n",
       "      <th>Column49</th>\n",
       "      <th>Column50</th>\n",
       "      <th>Column51</th>\n",
       "      <th>Column52</th>\n",
       "      <th>Column53</th>\n",
       "      <th>Column54</th>\n",
       "      <th>Column55</th>\n",
       "      <th>Column56</th>\n",
       "      <th>Column57</th>\n",
       "      <th>Column58</th>\n",
       "    </tr>\n",
       "  </thead>\n",
       "  <tbody>\n",
       "    <tr>\n",
       "      <th>0</th>\n",
       "      <td>0.00</td>\n",
       "      <td>0.64</td>\n",
       "      <td>0.64</td>\n",
       "      <td>0</td>\n",
       "      <td>0.32</td>\n",
       "      <td>0.00</td>\n",
       "      <td>0.00</td>\n",
       "      <td>0.00</td>\n",
       "      <td>0.00</td>\n",
       "      <td>0.00</td>\n",
       "      <td>...</td>\n",
       "      <td>0.00</td>\n",
       "      <td>0.000</td>\n",
       "      <td>0.0</td>\n",
       "      <td>0.778</td>\n",
       "      <td>0.000</td>\n",
       "      <td>0.000</td>\n",
       "      <td>3.756</td>\n",
       "      <td>61</td>\n",
       "      <td>278</td>\n",
       "      <td>1</td>\n",
       "    </tr>\n",
       "    <tr>\n",
       "      <th>1</th>\n",
       "      <td>0.21</td>\n",
       "      <td>0.28</td>\n",
       "      <td>0.50</td>\n",
       "      <td>0</td>\n",
       "      <td>0.14</td>\n",
       "      <td>0.28</td>\n",
       "      <td>0.21</td>\n",
       "      <td>0.07</td>\n",
       "      <td>0.00</td>\n",
       "      <td>0.94</td>\n",
       "      <td>...</td>\n",
       "      <td>0.00</td>\n",
       "      <td>0.132</td>\n",
       "      <td>0.0</td>\n",
       "      <td>0.372</td>\n",
       "      <td>0.180</td>\n",
       "      <td>0.048</td>\n",
       "      <td>5.114</td>\n",
       "      <td>101</td>\n",
       "      <td>1028</td>\n",
       "      <td>1</td>\n",
       "    </tr>\n",
       "    <tr>\n",
       "      <th>2</th>\n",
       "      <td>0.06</td>\n",
       "      <td>0.00</td>\n",
       "      <td>0.71</td>\n",
       "      <td>0</td>\n",
       "      <td>1.23</td>\n",
       "      <td>0.19</td>\n",
       "      <td>0.19</td>\n",
       "      <td>0.12</td>\n",
       "      <td>0.64</td>\n",
       "      <td>0.25</td>\n",
       "      <td>...</td>\n",
       "      <td>0.01</td>\n",
       "      <td>0.143</td>\n",
       "      <td>0.0</td>\n",
       "      <td>0.276</td>\n",
       "      <td>0.184</td>\n",
       "      <td>0.010</td>\n",
       "      <td>9.821</td>\n",
       "      <td>485</td>\n",
       "      <td>2259</td>\n",
       "      <td>1</td>\n",
       "    </tr>\n",
       "    <tr>\n",
       "      <th>3</th>\n",
       "      <td>0.00</td>\n",
       "      <td>0.00</td>\n",
       "      <td>0.00</td>\n",
       "      <td>0</td>\n",
       "      <td>0.63</td>\n",
       "      <td>0.00</td>\n",
       "      <td>0.31</td>\n",
       "      <td>0.63</td>\n",
       "      <td>0.31</td>\n",
       "      <td>0.63</td>\n",
       "      <td>...</td>\n",
       "      <td>0.00</td>\n",
       "      <td>0.137</td>\n",
       "      <td>0.0</td>\n",
       "      <td>0.137</td>\n",
       "      <td>0.000</td>\n",
       "      <td>0.000</td>\n",
       "      <td>3.537</td>\n",
       "      <td>40</td>\n",
       "      <td>191</td>\n",
       "      <td>1</td>\n",
       "    </tr>\n",
       "    <tr>\n",
       "      <th>4</th>\n",
       "      <td>0.00</td>\n",
       "      <td>0.00</td>\n",
       "      <td>0.00</td>\n",
       "      <td>0</td>\n",
       "      <td>0.63</td>\n",
       "      <td>0.00</td>\n",
       "      <td>0.31</td>\n",
       "      <td>0.63</td>\n",
       "      <td>0.31</td>\n",
       "      <td>0.63</td>\n",
       "      <td>...</td>\n",
       "      <td>0.00</td>\n",
       "      <td>0.135</td>\n",
       "      <td>0.0</td>\n",
       "      <td>0.135</td>\n",
       "      <td>0.000</td>\n",
       "      <td>0.000</td>\n",
       "      <td>3.537</td>\n",
       "      <td>40</td>\n",
       "      <td>191</td>\n",
       "      <td>1</td>\n",
       "    </tr>\n",
       "  </tbody>\n",
       "</table>\n",
       "<p>5 rows × 58 columns</p>\n",
       "</div>"
      ],
      "text/plain": [
       "   Column1  Column2  Column3  Column4  Column5  Column6  Column7  Column8  \\\n",
       "0     0.00     0.64     0.64        0     0.32     0.00     0.00     0.00   \n",
       "1     0.21     0.28     0.50        0     0.14     0.28     0.21     0.07   \n",
       "2     0.06     0.00     0.71        0     1.23     0.19     0.19     0.12   \n",
       "3     0.00     0.00     0.00        0     0.63     0.00     0.31     0.63   \n",
       "4     0.00     0.00     0.00        0     0.63     0.00     0.31     0.63   \n",
       "\n",
       "   Column9  Column10  ...  Column49  Column50  Column51  Column52  Column53  \\\n",
       "0     0.00      0.00  ...      0.00     0.000       0.0     0.778     0.000   \n",
       "1     0.00      0.94  ...      0.00     0.132       0.0     0.372     0.180   \n",
       "2     0.64      0.25  ...      0.01     0.143       0.0     0.276     0.184   \n",
       "3     0.31      0.63  ...      0.00     0.137       0.0     0.137     0.000   \n",
       "4     0.31      0.63  ...      0.00     0.135       0.0     0.135     0.000   \n",
       "\n",
       "   Column54  Column55  Column56  Column57  Column58  \n",
       "0     0.000     3.756        61       278         1  \n",
       "1     0.048     5.114       101      1028         1  \n",
       "2     0.010     9.821       485      2259         1  \n",
       "3     0.000     3.537        40       191         1  \n",
       "4     0.000     3.537        40       191         1  \n",
       "\n",
       "[5 rows x 58 columns]"
      ]
     },
     "execution_count": 39,
     "metadata": {},
     "output_type": "execute_result"
    }
   ],
   "source": [
    "data2.head()"
   ]
  },
  {
   "cell_type": "code",
   "execution_count": 40,
   "metadata": {},
   "outputs": [
    {
     "data": {
      "text/plain": [
       "<bound method NDFrame.describe of      Column1  Column2  Column3  Column4  Column5  Column6  Column7  Column8  \\\n",
       "0       0.00     0.64     0.64        0     0.32     0.00     0.00     0.00   \n",
       "1       0.21     0.28     0.50        0     0.14     0.28     0.21     0.07   \n",
       "2       0.06     0.00     0.71        0     1.23     0.19     0.19     0.12   \n",
       "3       0.00     0.00     0.00        0     0.63     0.00     0.31     0.63   \n",
       "4       0.00     0.00     0.00        0     0.63     0.00     0.31     0.63   \n",
       "5       0.00     0.00     0.00        0     1.85     0.00     0.00     1.85   \n",
       "6       0.00     0.00     0.00        0     1.92     0.00     0.00     0.00   \n",
       "7       0.00     0.00     0.00        0     1.88     0.00     0.00     1.88   \n",
       "8       0.15     0.00     0.46        0     0.61     0.00     0.30     0.00   \n",
       "9       0.06     0.12     0.77        0     0.19     0.32     0.38     0.00   \n",
       "10      0.00     0.00     0.00        0     0.00     0.00     0.96     0.00   \n",
       "11      0.00     0.00     0.25        0     0.38     0.25     0.25     0.00   \n",
       "12      0.00     0.69     0.34        0     0.34     0.00     0.00     0.00   \n",
       "13      0.00     0.00     0.00        0     0.90     0.00     0.90     0.00   \n",
       "14      0.00     0.00     1.42        0     0.71     0.35     0.00     0.35   \n",
       "15      0.00     0.42     0.42        0     1.27     0.00     0.42     0.00   \n",
       "16      0.00     0.00     0.00        0     0.94     0.00     0.00     0.00   \n",
       "17      0.00     0.00     0.00        0     0.00     0.00     0.00     0.00   \n",
       "18      0.00     0.00     0.55        0     1.11     0.00     0.18     0.00   \n",
       "19      0.00     0.63     0.00        0     1.59     0.31     0.00     0.00   \n",
       "20      0.00     0.00     0.00        0     0.00     0.00     0.00     0.00   \n",
       "21      0.05     0.07     0.10        0     0.76     0.05     0.15     0.02   \n",
       "22      0.00     0.00     0.00        0     2.94     0.00     0.00     0.00   \n",
       "23      0.00     0.00     0.00        0     1.16     0.00     0.00     0.00   \n",
       "24      0.00     0.00     0.00        0     0.00     0.00     0.00     0.00   \n",
       "25      0.05     0.07     0.10        0     0.76     0.05     0.15     0.02   \n",
       "26      0.00     0.00     0.00        0     0.00     0.00     0.00     0.00   \n",
       "27      0.00     0.00     0.00        0     0.00     0.00     1.66     0.00   \n",
       "28      0.00     0.00     0.00        0     0.00     0.00     0.00     0.00   \n",
       "29      0.00     0.00     0.00        0     0.65     0.00     0.65     0.00   \n",
       "..       ...      ...      ...      ...      ...      ...      ...      ...   \n",
       "970     0.00     0.00     0.00        0     0.00     0.00     0.00     0.00   \n",
       "971     0.00     0.00     0.00        0     0.00     0.00     0.00     0.00   \n",
       "972     0.00     0.00     0.15        0     0.00     0.00     0.00     0.00   \n",
       "973     0.00     0.00     0.00        0     0.00     0.00     0.00     0.00   \n",
       "974     0.12     0.00     0.12        0     0.00     0.00     0.00     0.00   \n",
       "975     0.00     0.00     0.00        0     0.00     0.00     0.00     0.00   \n",
       "976     0.00     0.00     0.52        0     0.00     0.00     0.00     0.00   \n",
       "977     0.00     0.00     0.31        0     0.31     0.00     0.00     0.00   \n",
       "978     0.00     0.16     0.00        0     0.00     0.00     0.00     0.16   \n",
       "979     0.18     0.14     0.25        0     0.00     0.00     0.00     0.07   \n",
       "980     0.00     0.00     0.00        0     0.00     0.00     0.00     0.00   \n",
       "981     0.04     0.02     0.14        0     0.25     0.08     0.00     0.08   \n",
       "982     0.00     0.00     0.00        0     0.00     0.18     0.00     0.00   \n",
       "983     0.00     0.00     0.00        0     0.00     0.00     0.00     0.00   \n",
       "984     0.00     0.00     0.00        0     0.00     0.00     0.00     0.00   \n",
       "985     0.09     0.00     0.09        0     0.56     0.09     0.00     0.00   \n",
       "986     0.00     0.00     1.23        0     0.00     0.00     0.00     0.00   \n",
       "987     0.00     0.00     0.57        0     0.00     0.00     0.00     0.00   \n",
       "988     0.00     0.00     0.00        0     0.00     0.00     0.00     0.00   \n",
       "989     0.00     4.16     0.00        0     0.00     0.00     0.00     0.00   \n",
       "990     0.00     0.00     0.74        0     0.00     0.00     0.00     0.00   \n",
       "991     0.00     0.00     0.00        0     0.00     0.00     0.00     0.00   \n",
       "992     0.00     0.00     0.00        0     0.00     0.00     0.00     0.00   \n",
       "993     0.00     0.00     0.00        0     0.00     0.00     1.78     0.00   \n",
       "994     0.00     0.00     0.00        0     0.00     0.00     0.00     0.00   \n",
       "995     0.15     0.31     0.00        0     0.00     0.00     0.00     0.00   \n",
       "996     0.00     0.00     0.43        0     0.00     0.00     0.00     0.00   \n",
       "997     0.00     0.25     0.12        0     0.37     0.00     0.00     0.12   \n",
       "998     0.00     0.00     0.61        0     0.00     0.00     0.00     0.00   \n",
       "999     0.00     2.59     1.29        0     1.29     0.00     0.00     0.00   \n",
       "\n",
       "     Column9  Column10  ...  Column49  Column50  Column51  Column52  Column53  \\\n",
       "0       0.00      0.00  ...     0.000     0.000     0.000     0.778     0.000   \n",
       "1       0.00      0.94  ...     0.000     0.132     0.000     0.372     0.180   \n",
       "2       0.64      0.25  ...     0.010     0.143     0.000     0.276     0.184   \n",
       "3       0.31      0.63  ...     0.000     0.137     0.000     0.137     0.000   \n",
       "4       0.31      0.63  ...     0.000     0.135     0.000     0.135     0.000   \n",
       "5       0.00      0.00  ...     0.000     0.223     0.000     0.000     0.000   \n",
       "6       0.00      0.64  ...     0.000     0.054     0.000     0.164     0.054   \n",
       "7       0.00      0.00  ...     0.000     0.206     0.000     0.000     0.000   \n",
       "8       0.92      0.76  ...     0.000     0.271     0.000     0.181     0.203   \n",
       "9       0.06      0.00  ...     0.040     0.030     0.000     0.244     0.081   \n",
       "10      0.00      1.92  ...     0.000     0.000     0.000     0.462     0.000   \n",
       "11      0.00      0.00  ...     0.022     0.044     0.000     0.663     0.000   \n",
       "12      0.00      0.00  ...     0.000     0.056     0.000     0.786     0.000   \n",
       "13      0.00      0.90  ...     0.000     0.000     0.000     0.000     0.000   \n",
       "14      0.00      0.71  ...     0.000     0.102     0.000     0.357     0.000   \n",
       "15      0.00      1.27  ...     0.000     0.063     0.000     0.572     0.063   \n",
       "16      0.00      0.00  ...     0.000     0.000     0.000     0.428     0.000   \n",
       "17      0.00      0.00  ...     0.000     0.000     0.000     1.975     0.370   \n",
       "18      0.00      0.00  ...     0.000     0.182     0.000     0.455     0.000   \n",
       "19      0.31      0.00  ...     0.000     0.275     0.000     0.055     0.496   \n",
       "20      0.00      0.00  ...     0.000     0.729     0.000     0.729     0.000   \n",
       "21      0.55      0.00  ...     0.042     0.101     0.016     0.250     0.046   \n",
       "22      0.00      0.00  ...     0.404     0.404     0.000     0.809     0.000   \n",
       "23      0.00      0.00  ...     0.000     0.133     0.000     0.667     0.000   \n",
       "24      0.00      0.00  ...     0.000     0.196     0.000     0.392     0.196   \n",
       "25      0.55      0.00  ...     0.042     0.101     0.016     0.250     0.046   \n",
       "26      0.00      0.00  ...     0.000     0.196     0.000     0.392     0.196   \n",
       "27      0.00      0.00  ...     0.000     0.000     0.000     0.368     0.000   \n",
       "28      0.00      0.00  ...     0.000     0.352     0.000     0.352     0.000   \n",
       "29      0.00      0.00  ...     0.000     0.459     0.000     0.091     0.000   \n",
       "..       ...       ...  ...       ...       ...       ...       ...       ...   \n",
       "970     0.00      0.00  ...     0.000     0.312     0.039     0.000     0.117   \n",
       "971     0.00      0.00  ...     0.388     0.259     0.129     0.000     0.000   \n",
       "972     0.00      0.00  ...     0.078     0.235     0.052     0.000     0.000   \n",
       "973     0.00      0.00  ...     0.000     0.000     0.000     0.000     0.000   \n",
       "974     1.11      0.00  ...     0.119     0.170     0.034     0.000     0.034   \n",
       "975     0.00      0.69  ...     0.000     0.228     0.114     0.000     0.000   \n",
       "976     0.00      0.00  ...     0.000     0.180     0.000     0.000     0.000   \n",
       "977     0.00      1.27  ...     0.097     0.534     0.242     0.000     0.048   \n",
       "978     0.16      0.00  ...     0.000     0.123     0.000     0.000     0.000   \n",
       "979     0.00      0.14  ...     0.019     0.414     0.000     0.004     0.000   \n",
       "980     0.00      0.00  ...     0.000     0.000     0.000     0.000     0.000   \n",
       "981     0.02      0.12  ...     0.046     0.149     0.005     0.014     0.000   \n",
       "982     0.00      0.00  ...     0.182     0.339     0.130     0.000     0.000   \n",
       "983     0.00      0.00  ...     0.000     0.000     0.000     0.000     0.000   \n",
       "984     0.00      0.00  ...     0.000     0.000     0.000     0.000     0.000   \n",
       "985     0.00      0.18  ...     0.000     0.081     0.000     0.000     0.000   \n",
       "986     0.00      0.00  ...     0.000     0.139     0.000     0.279     0.000   \n",
       "987     0.00      0.00  ...     0.000     0.093     0.000     0.000     0.000   \n",
       "988     0.00      0.00  ...     0.000     0.000     0.000     0.000     0.000   \n",
       "989     0.00      0.00  ...     0.000     0.000     0.000     0.709     0.000   \n",
       "990     0.00      0.00  ...     0.000     0.000     0.000     0.000     0.000   \n",
       "991     0.48      0.00  ...     0.000     0.076     0.000     0.305     0.381   \n",
       "992     0.48      0.00  ...     0.000     0.076     0.000     0.305     0.381   \n",
       "993     0.00      1.78  ...     0.000     0.000     0.000     0.000     0.000   \n",
       "994     0.00      0.00  ...     0.000     0.000     0.000     0.000     0.000   \n",
       "995     0.00      0.63  ...     0.149     0.199     0.049     0.174     0.000   \n",
       "996     0.00      0.00  ...     0.000     0.220     0.000     0.146     0.000   \n",
       "997     0.00      0.37  ...     0.016     0.050     0.000     0.050     0.000   \n",
       "998     0.00      0.00  ...     0.000     0.143     0.000     0.000     0.000   \n",
       "999     0.00      0.00  ...     0.000     0.000     0.000     0.000     0.000   \n",
       "\n",
       "     Column54  Column55  Column56  Column57  Column58  \n",
       "0       0.000     3.756        61       278         1  \n",
       "1       0.048     5.114       101      1028         1  \n",
       "2       0.010     9.821       485      2259         1  \n",
       "3       0.000     3.537        40       191         1  \n",
       "4       0.000     3.537        40       191         1  \n",
       "5       0.000     3.000        15        54         1  \n",
       "6       0.000     1.671         4       112         1  \n",
       "7       0.000     2.450        11        49         1  \n",
       "8       0.022     9.744       445      1257         1  \n",
       "9       0.000     1.729        43       749         1  \n",
       "10      0.000     1.312         6        21         1  \n",
       "11      0.000     1.243        11       184         1  \n",
       "12      0.000     3.728        61       261         1  \n",
       "13      0.000     2.083         7        25         1  \n",
       "14      0.000     1.971        24       205         1  \n",
       "15      0.000     5.659        55       249         1  \n",
       "16      0.000     4.652        31       107         1  \n",
       "17      0.000    35.461        95       461         1  \n",
       "18      0.000     1.320         4        70         1  \n",
       "19      0.000     3.509        91       186         1  \n",
       "20      0.000     3.833         9        23         1  \n",
       "21      0.059     2.569        66      2259         1  \n",
       "22      0.000     4.857        12        34         1  \n",
       "23      0.000     1.131         5        69         1  \n",
       "24      0.000     5.466        22        82         1  \n",
       "25      0.059     2.565        66      2258         1  \n",
       "26      0.000     5.466        22        82         1  \n",
       "27      0.000     2.611        12        47         1  \n",
       "28      0.000     4.000        11        36         1  \n",
       "29      0.000     2.687        66       129         1  \n",
       "..        ...       ...       ...       ...       ...  \n",
       "970     0.000     1.890        13       189         0  \n",
       "971     0.000     2.666        13        96         0  \n",
       "972     0.000     1.945        12       323         0  \n",
       "973     0.000     2.000        12        42         0  \n",
       "974     0.000     3.237        32       505         0  \n",
       "975     0.114     3.651        28       157         0  \n",
       "976     0.000     1.500         4        63         0  \n",
       "977     0.000     2.230        13       261         0  \n",
       "978     0.095     4.438        50       932         0  \n",
       "979     0.000     2.393        40      1795         0  \n",
       "980     0.000     1.300         3        13         0  \n",
       "981     0.002     2.350        46      3006         0  \n",
       "982     0.000     3.628        44       479         0  \n",
       "983     0.000     2.000         4         6         0  \n",
       "984     0.000     1.666         7        25         0  \n",
       "985     0.000     1.983        25       601         0  \n",
       "986     0.000     1.736        10        66         0  \n",
       "987     0.000     1.136         3        25         0  \n",
       "988     0.000     3.066        10        46         0  \n",
       "989     0.000     2.090         6        23         0  \n",
       "990     0.000     2.595        31       122         0  \n",
       "991     0.000     1.884         9        98         0  \n",
       "992     0.000     1.884         9        98         0  \n",
       "993     0.000     7.000        35        63         0  \n",
       "994     0.000     1.000         1         2         0  \n",
       "995     0.000     4.026       100       608         0  \n",
       "996     0.000     1.341         6        55         0  \n",
       "997     0.000     2.414        25       367         0  \n",
       "998     0.000     3.682        51       151         0  \n",
       "999     0.000     1.000         1        13         0  \n",
       "\n",
       "[1000 rows x 58 columns]>"
      ]
     },
     "execution_count": 40,
     "metadata": {},
     "output_type": "execute_result"
    }
   ],
   "source": [
    "data2.describe"
   ]
  },
  {
   "cell_type": "code",
   "execution_count": 41,
   "metadata": {},
   "outputs": [],
   "source": [
    "zero1=data2[data2['Column58']==0]\n",
    "ones1=data2[data2['Column58']==1]"
   ]
  },
  {
   "cell_type": "code",
   "execution_count": 42,
   "metadata": {},
   "outputs": [],
   "source": [
    "a1=zero1.drop('Column58', axis=1)\n",
    "b1= ones1.drop('Column58', axis=1)"
   ]
  },
  {
   "cell_type": "code",
   "execution_count": 43,
   "metadata": {},
   "outputs": [],
   "source": [
    "mean1=np.mean(a1,0)\n",
    "mean2=np.mean(b1,0)"
   ]
  },
  {
   "cell_type": "code",
   "execution_count": 44,
   "metadata": {},
   "outputs": [],
   "source": [
    "#mean centered\n",
    "a1_mc1=a1-mean1\n",
    "b1_mc1=b1-mean2"
   ]
  },
  {
   "cell_type": "code",
   "execution_count": 45,
   "metadata": {},
   "outputs": [
    {
     "data": {
      "text/plain": [
       "(57,)"
      ]
     },
     "execution_count": 45,
     "metadata": {},
     "output_type": "execute_result"
    }
   ],
   "source": [
    "mean2.shape"
   ]
  },
  {
   "cell_type": "code",
   "execution_count": 46,
   "metadata": {},
   "outputs": [],
   "source": [
    "e1=np.dot(a1_mc1.T,a1_mc1)\n",
    "e2=np.dot(b1_mc1.T, b1_mc1)"
   ]
  },
  {
   "cell_type": "code",
   "execution_count": 47,
   "metadata": {},
   "outputs": [],
   "source": [
    "w=e1+e2"
   ]
  },
  {
   "cell_type": "code",
   "execution_count": 48,
   "metadata": {},
   "outputs": [
    {
     "data": {
      "text/plain": [
       "array([[ 6.83516030e+01, -1.96891680e+00,  6.58726900e+00, ...,\n",
       "         2.43554435e+02,  2.49019246e+03,  9.60530684e+03],\n",
       "       [-1.96891680e+00,  1.00522122e+02,  3.57385880e+00, ...,\n",
       "         1.04155784e+03,  4.30042688e+03,  8.69451112e+03],\n",
       "       [ 6.58726900e+00,  3.57385880e+00,  2.24378934e+02, ...,\n",
       "        -2.06142566e+02,  2.50622740e+02, -7.93152004e+03],\n",
       "       ...,\n",
       "       [ 2.43554435e+02,  1.04155784e+03, -2.06142566e+02, ...,\n",
       "         2.35073814e+06,  4.98945904e+06,  4.45423594e+06],\n",
       "       [ 2.49019246e+03,  4.30042688e+03,  2.50622740e+02, ...,\n",
       "         4.98945904e+06,  2.00373349e+07,  3.72157907e+07],\n",
       "       [ 9.60530684e+03,  8.69451112e+03, -7.93152004e+03, ...,\n",
       "         4.45423594e+06,  3.72157907e+07,  2.69362810e+08]])"
      ]
     },
     "execution_count": 48,
     "metadata": {},
     "output_type": "execute_result"
    }
   ],
   "source": [
    "w"
   ]
  },
  {
   "cell_type": "code",
   "execution_count": 49,
   "metadata": {},
   "outputs": [],
   "source": [
    "pr=np.dot(np.linalg.inv(w),(mean2-mean1))"
   ]
  },
  {
   "cell_type": "code",
   "execution_count": 50,
   "metadata": {
    "scrolled": true
   },
   "outputs": [
    {
     "data": {
      "text/plain": [
       "array([-1.70567697e-03,  1.57783281e-04,  4.97915767e-04,  5.66543387e-04,\n",
       "        1.12998453e-03,  8.66425751e-04,  8.15065133e-04,  9.96144113e-04,\n",
       "       -1.05352158e-04, -5.01655017e-05,  1.44373787e-03, -5.11193462e-04,\n",
       "        1.93084708e-05, -3.31030360e-04,  1.55489704e-04,  8.96329490e-04,\n",
       "        2.40646914e-04,  9.57012514e-04,  3.02404100e-04,  3.84938689e-04,\n",
       "        3.83460791e-04,  5.88996034e-04,  2.14588977e-03,  2.44314172e-03,\n",
       "       -2.92520831e-04, -3.51567260e-04, -1.61759237e-04, -6.22916261e-05,\n",
       "        1.95393014e-04, -1.01863964e-03,  3.77305898e-04,  7.41381124e-04,\n",
       "       -1.22068059e-03,  7.58505827e-04, -5.10049358e-04, -2.64045282e-04,\n",
       "       -1.27868034e-04,  1.97306012e-03, -7.95656749e-04, -4.47221778e-04,\n",
       "        1.41781619e-03, -8.45858048e-04, -4.10897838e-04, -5.11143359e-04,\n",
       "        9.26294516e-05, -1.96281551e-03, -1.23195142e-03, -2.56262230e-03,\n",
       "       -3.36599495e-04,  5.89749317e-04, -1.43932085e-03,  2.35273457e-03,\n",
       "        2.68952454e-03, -3.26900005e-04, -1.09471347e-07,  5.43951087e-07,\n",
       "        6.33168554e-07])"
      ]
     },
     "execution_count": 50,
     "metadata": {},
     "output_type": "execute_result"
    }
   ],
   "source": [
    "pr"
   ]
  },
  {
   "cell_type": "code",
   "execution_count": 58,
   "metadata": {},
   "outputs": [
    {
     "name": "stdout",
     "output_type": "stream",
     "text": [
      "Error count: 183\n",
      "Thresold: 0\n"
     ]
    }
   ],
   "source": [
    "#with initial threshold as 0\n",
    "threshold_data2=0\n",
    "pred_s=(1*np.sign(np.dot(pr,data2.drop('Column58', axis=1).T)+threshold)+1)/2\n",
    "err_s=sum(pred_s!=data2.Column58)\n",
    "print('Error count:',err_s)\n",
    "print('Thresold:', threshold_data2)"
   ]
  },
  {
   "cell_type": "code",
   "execution_count": 59,
   "metadata": {},
   "outputs": [
    {
     "data": {
      "image/png": "[encoded data removed]",
      "text/plain": [
       "<Figure size 432x288 with 1 Axes>"
      ]
     },
     "metadata": {
      "needs_background": "light"
     },
     "output_type": "display_data"
    },
    {
     "name": "stdout",
     "output_type": "stream",
     "text": [
      "Thresold for minimum errors: -0.00239999999999721\n",
      "Error count with ideal threshold: 78\n"
     ]
    }
   ],
   "source": [
    "#trial and error for the threshold using loop\n",
    "err=[]\n",
    "thresh=[]\n",
    "for i in np.arange(-0.1, 0.1,0.0001):\n",
    "    pred_s=(1*np.sign(np.dot(pr,data2.drop('Column58', axis=1).T)+i)+1)/2\n",
    "    err_s=sum(pred_s!=data2.Column58)\n",
    "    err.append(err_s)\n",
    "    thresh.append(i)\n",
    "plt.plot(thresh,err)\n",
    "plt.xlabel('Threshold')\n",
    "plt.ylabel('Error')\n",
    "plt.ion()\n",
    "plt.show()\n",
    "print('Thresold for minimum errors:', thresh[err.index(min(err))])\n",
    "print('Error count with ideal threshold:',min(err))"
   ]
  },
  {
   "cell_type": "code",
   "execution_count": 55,
   "metadata": {
    "scrolled": true
   },
   "outputs": [
    {
     "name": "stdout",
     "output_type": "stream",
     "text": [
      "Precision score 1.0\n",
      "Confusion matrix: [[  0   0]\n",
      " [500 500]]\n"
     ]
    }
   ],
   "source": [
    "pred_s=(1*np.sign(np.dot(pr,data2.drop('Column58', axis=1).T)+i)+1)/2\n",
    "err_s=sum(pred_s!=data2.Column58)\n",
    "print('Precision score',precision_score(pred_s, data2.Column58))\n",
    "print('Confusion matrix:',confusion_matrix(pred_s,data2.Column58))"
   ]
  }
 ],
 "metadata": {
  "kernelspec": {
   "display_name": "Python 3",
   "language": "python",
   "name": "python3"
  },
  "language_info": {
   "codemirror_mode": {
    "name": "ipython",
    "version": 3
   },
   "file_extension": ".py",
   "mimetype": "text/x-python",
   "name": "python",
   "nbconvert_exporter": "python",
   "pygments_lexer": "ipython3",
   "version": "3.7.3"
  }
 },
 "nbformat": 4,
 "nbformat_minor": 2
}
